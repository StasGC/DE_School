{
 "cells": [
  {
   "cell_type": "code",
   "execution_count": 1,
   "metadata": {},
   "outputs": [],
   "source": [
    "import random\n",
    "import re\n",
    "\n",
    "from faker import Faker\n",
    "from faker.providers import phone_number"
   ]
  },
  {
   "cell_type": "code",
   "execution_count": 2,
   "metadata": {},
   "outputs": [],
   "source": [
    "# Constants\n",
    "\n",
    "MINUTE_CONSTRAINT = 2\n",
    "N_CIRCLES = 20\n",
    "CALLS_CONSTRAINT = 2"
   ]
  },
  {
   "cell_type": "code",
   "execution_count": 4,
   "metadata": {},
   "outputs": [],
   "source": [
    "# !python -m pip install Faker"
   ]
  },
  {
   "cell_type": "markdown",
   "metadata": {},
   "source": [
    "# Нормализация номера\n",
    "\n",
    "Буду приводить номера к виду: **1234567890**, без дефисов, точек и тп, потому что это лишняя информация, которая никак нам не поможет, нам важны только цифры."
   ]
  },
  {
   "cell_type": "code",
   "execution_count": 6,
   "metadata": {},
   "outputs": [],
   "source": [
    "def normalize_phone_number(number: str) -> str:\n",
    "    number = number.split('x')[0]\n",
    "\n",
    "    digits = [i for i in number if i.isdigit()][-10:]\n",
    "\n",
    "    return ''.join(digits)"
   ]
  },
  {
   "cell_type": "markdown",
   "metadata": {},
   "source": [
    "## Протестим нормализацию на нескольких номерах:"
   ]
  },
  {
   "cell_type": "code",
   "execution_count": 14,
   "metadata": {},
   "outputs": [
    {
     "name": "stdout",
     "output_type": "stream",
     "text": [
      "Проверяется номер: (031)381-2655\n",
      "Проверяется номер: 519-336-8985x6623\n",
      "Проверяется номер: +1-885-895-5842x47265\n",
      "Проверяется номер: 9255880772\n",
      "Проверяется номер: 001-866-784-8782x84277\n",
      "Проверяется номер: +1-540-961-2027x36866\n",
      "Проверяется номер: 784-137-2019\n",
      "Проверяется номер: (419)148-4019x156\n",
      "\n",
      "Все тесты прошли успешно!\n"
     ]
    }
   ],
   "source": [
    "numbers = [\n",
    "    '(031)381-2655',\n",
    "    '519-336-8985x6623',\n",
    "    '+1-885-895-5842x47265',\n",
    "    '9255880772',\n",
    "    '001-866-784-8782x84277',\n",
    "    '+1-540-961-2027x36866',\n",
    "    '784-137-2019',\n",
    "    '(419)148-4019x156',\n",
    "]\n",
    "\n",
    "normalized_numbers = [\n",
    "    '0313812655',\n",
    "    '5193368985',\n",
    "    '8858955842',\n",
    "    '9255880772',\n",
    "    '8667848782',\n",
    "    '5409612027',\n",
    "    '7841372019',\n",
    "    '4191484019',\n",
    "]\n",
    "\n",
    "for i in range(len(numbers)):\n",
    "    print(f\"Проверяется номер: {numbers[i]}\")\n",
    "    assert normalize_phone_number(numbers[i]) == normalized_numbers[i]\n",
    "\n",
    "print()\n",
    "print(\"Все тесты прошли успешно!\")"
   ]
  },
  {
   "cell_type": "code",
   "execution_count": 15,
   "metadata": {},
   "outputs": [],
   "source": [
    "with open('Control_point_2/numbers.txt', 'r') as file1, open('Control_point_2/numbers_clean.txt', 'w') as file2:\n",
    "    while True:\n",
    "        number = file1.readline()\n",
    "\n",
    "        if not number:\n",
    "            break\n",
    "\n",
    "        file2.write(normalize_phone_number(number) + '\\n')"
   ]
  },
  {
   "cell_type": "markdown",
   "metadata": {},
   "source": [
    "# Пополним список подозреваемых:"
   ]
  },
  {
   "cell_type": "code",
   "execution_count": 37,
   "metadata": {},
   "outputs": [
    {
     "name": "stdout",
     "output_type": "stream",
     "text": [
      "['167.986.4800', '(002)317-7838x37908', '202-533-5657x831', '703-493-3046', '+1-432-997-7653x5062', '435-569-6100x137', '(965)145-4222', '+1-032-989-9674x248', '(598)120-7013', '938.145.4062x95941']\n"
     ]
    }
   ],
   "source": [
    "fake = Faker()\n",
    "fake.add_provider(phone_number)\n",
    "pnumbers = [fake.phone_number() for i in range(100)]\n",
    "calls = [ {\"caller\": random.choice(pnumbers), \"recipient\": random.choice(pnumbers), \"duration_s\": random.randint(5, 600)} for i in range(1500) ]\n",
    "\n",
    "suspects = random.choices(pnumbers,k=10)\n",
    "print(suspects)\n",
    "\n",
    "with open(\"Control_point_2/numbers.txt\", \"w+\") as file:\n",
    "    file.writelines([f'{str(number)}\\n' for number in pnumbers])\n",
    "\n",
    "with open(\"Control_point_2/suspects.txt\", \"w+\") as file:\n",
    "    file.writelines([f'{str(number)}\\n' for number in suspects])\n",
    "\n",
    "with open(\"Control_point_2/calls.txt\", \"w+\") as file:\n",
    "        file.writelines([f'caller:{call.get(\"caller\")}|recipient:{call.get(\"recipient\")}|duration_s:{call.get(\"duration_s\")}\\n' for call in calls])\n"
   ]
  },
  {
   "cell_type": "code",
   "execution_count": 38,
   "metadata": {},
   "outputs": [],
   "source": [
    "suspects_0 = set()\n",
    "\n",
    "with open('Control_point_2/suspects.txt', 'r') as file:\n",
    "    numbers = [i[:-1] for i in file.readlines()]\n",
    "\n",
    "for num in numbers:\n",
    "    suspects_0.add(normalize_phone_number(num))"
   ]
  },
  {
   "cell_type": "code",
   "execution_count": 39,
   "metadata": {},
   "outputs": [
    {
     "data": {
      "text/plain": [
       "{'0023177838',\n",
       " '0329899674',\n",
       " '1679864800',\n",
       " '2025335657',\n",
       " '4329977653',\n",
       " '4355696100',\n",
       " '5981207013',\n",
       " '7034933046',\n",
       " '9381454062',\n",
       " '9651454222'}"
      ]
     },
     "execution_count": 39,
     "metadata": {},
     "output_type": "execute_result"
    }
   ],
   "source": [
    "suspects_0"
   ]
  },
  {
   "cell_type": "code",
   "execution_count": 40,
   "metadata": {},
   "outputs": [],
   "source": [
    "def check_suspects(suspects: set, caller: str, recipient: str, duration_s: str, minute_constraint=2) -> bool:\n",
    "    if recipient in suspects and duration_s / 60 > minute_constraint:\n",
    "        return True\n",
    "    return False"
   ]
  },
  {
   "cell_type": "markdown",
   "metadata": {},
   "source": [
    "Решил не использовать функцию выше, так как при её использовании нужно будет передавать множество suspects, которое потенциально может быть очень большим. Такие лишние копирование большой области памяти нам не нужны. "
   ]
  },
  {
   "cell_type": "code",
   "execution_count": 44,
   "metadata": {},
   "outputs": [],
   "source": [
    "suspects_1 = set()\n",
    "\n",
    "with open('Control_point_2/calls.txt', 'r') as file, open('Control_point_2/proofs.txt', 'w') as file_proofs:\n",
    "    while True:\n",
    "        calls = {}\n",
    "\n",
    "        line = file.readline()\n",
    "        if not line:\n",
    "            break\n",
    "\n",
    "        line = line.split('|')\n",
    "\n",
    "        calls['caller'] = normalize_phone_number(line[0])\n",
    "        calls['recipient'] = normalize_phone_number(line[1])\n",
    "        calls['duration_s'] = int(line[2][11:])\n",
    "\n",
    "        if calls['recipient'] in suspects_0 and calls['duration_s'] / 60 > MINUTE_CONSTRAINT:\n",
    "            suspects_1.add(calls['caller'])\n",
    "\n",
    "            file_proofs.write(f\"caller:{calls['caller']}|recipient:{calls['recipient']}|duration_s:{calls['duration_s']}\\n\")\n"
   ]
  },
  {
   "cell_type": "code",
   "execution_count": 42,
   "metadata": {},
   "outputs": [
    {
     "data": {
      "text/plain": [
       "{'0023177838',\n",
       " '0127356191',\n",
       " '0288118381',\n",
       " '0323121165',\n",
       " '0329899674',\n",
       " '0753678659',\n",
       " '1129320710',\n",
       " '1468745897',\n",
       " '1548641885',\n",
       " '1630458536',\n",
       " '1745182453',\n",
       " '1909221679',\n",
       " '2044000781',\n",
       " '2204703803',\n",
       " '2206256733',\n",
       " '2250351174',\n",
       " '2331029737',\n",
       " '2391774938',\n",
       " '2483967113',\n",
       " '2574070582',\n",
       " '2779248991',\n",
       " '2946238545',\n",
       " '3197457978',\n",
       " '3334976243',\n",
       " '3385163024',\n",
       " '3427192045',\n",
       " '3448303234',\n",
       " '3477383805',\n",
       " '3601932743',\n",
       " '3810326337',\n",
       " '3824159156',\n",
       " '4007090986',\n",
       " '4038110115',\n",
       " '4070958602',\n",
       " '4300831611',\n",
       " '4568168910',\n",
       " '4576049948',\n",
       " '4641808446',\n",
       " '4846304359',\n",
       " '4911789965',\n",
       " '4998601850',\n",
       " '5132356084',\n",
       " '5422833844',\n",
       " '5454798785',\n",
       " '5486455746',\n",
       " '5594661910',\n",
       " '5754016616',\n",
       " '6039158482',\n",
       " '6201197516',\n",
       " '6416632580',\n",
       " '6619666659',\n",
       " '7015748983',\n",
       " '7024025401',\n",
       " '7361373810',\n",
       " '7725076526',\n",
       " '7926092288',\n",
       " '8189304588',\n",
       " '8196212340',\n",
       " '8205227784',\n",
       " '8397312683',\n",
       " '8637267475',\n",
       " '8855487747',\n",
       " '9260444619',\n",
       " '9528157011',\n",
       " '9651454222',\n",
       " '9777474531'}"
      ]
     },
     "execution_count": 42,
     "metadata": {},
     "output_type": "execute_result"
    }
   ],
   "source": [
    "suspects_1"
   ]
  },
  {
   "cell_type": "code",
   "execution_count": 43,
   "metadata": {},
   "outputs": [],
   "source": [
    "with open('Control_point_2/suspects.txt', 'a') as file:\n",
    "    for num in suspects_1:\n",
    "        file.write(num + '\\n')"
   ]
  },
  {
   "cell_type": "markdown",
   "metadata": {},
   "source": [
    "# Теперь попробуем пополнить список звонков и сделать N-e круги."
   ]
  },
  {
   "cell_type": "code",
   "execution_count": 47,
   "metadata": {},
   "outputs": [
    {
     "name": "stdout",
     "output_type": "stream",
     "text": [
      "['4511649208', '8752003827', '6755016690', '6964912789', '0302704296', '0230964277', '3538068831', '0628854739', '4511649208', '1735302177', '6326319211', '2297090567', '0628854739', '7364040387', '6964912789', '4297384496', '1985308524', '4883094484', '7291158963', '8722628228', '7419256086', '2405762858', '0005642086', '9261357652', '2706051168', '6259100086', '3457203657', '2959805031', '3761800778', '5717766958']\n"
     ]
    }
   ],
   "source": [
    "fake = Faker()\n",
    "fake.add_provider(phone_number)\n",
    "pnumbers = [fake.phone_number() for i in range(300)]\n",
    "pnumbers = [normalize_phone_number(str(number)) for number in pnumbers]\n",
    "\n",
    "calls = [ {\"caller\": random.choice(pnumbers), \"recipient\": random.choice(pnumbers), \"duration_s\": random.randint(5, 600)} for i in range(15000) ]\n",
    "\n",
    "suspects = random.choices(pnumbers,k=30)\n",
    "print(suspects)\n",
    "\n",
    "with open(\"Control_point_3/numbers.txt\", \"w+\") as file:\n",
    "    file.writelines([f'{str(number)}\\n' for number in pnumbers])\n",
    "\n",
    "with open(\"Control_point_3/suspects.txt\", \"w+\") as file:\n",
    "    file.writelines([f'{str(number)}\\n' for number in suspects])\n",
    "\n",
    "with open(\"Control_point_3/calls.txt\", \"w+\") as file:\n",
    "    file.writelines([f'caller:{call.get(\"caller\")}|recipient:{call.get(\"recipient\")}|duration_s:{call.get(\"duration_s\")}\\n' for call in calls])\n"
   ]
  },
  {
   "cell_type": "markdown",
   "metadata": {},
   "source": [
    "Прочитаем текущих подозреваемых:"
   ]
  },
  {
   "cell_type": "code",
   "execution_count": 48,
   "metadata": {},
   "outputs": [],
   "source": [
    "suspects_0 = set()\n",
    "\n",
    "with open('Control_point_3/suspects.txt', 'r') as file:\n",
    "    numbers = [i[:-1] for i in file.readlines()]\n",
    "\n",
    "for number in numbers:\n",
    "    suspects_0.add(number)"
   ]
  },
  {
   "cell_type": "code",
   "execution_count": 49,
   "metadata": {},
   "outputs": [
    {
     "data": {
      "text/plain": [
       "{'0005642086',\n",
       " '0230964277',\n",
       " '0302704296',\n",
       " '0628854739',\n",
       " '1735302177',\n",
       " '1985308524',\n",
       " '2297090567',\n",
       " '2405762858',\n",
       " '2706051168',\n",
       " '2959805031',\n",
       " '3457203657',\n",
       " '3538068831',\n",
       " '3761800778',\n",
       " '4297384496',\n",
       " '4511649208',\n",
       " '4883094484',\n",
       " '5717766958',\n",
       " '6259100086',\n",
       " '6326319211',\n",
       " '6755016690',\n",
       " '6964912789',\n",
       " '7291158963',\n",
       " '7364040387',\n",
       " '7419256086',\n",
       " '8722628228',\n",
       " '8752003827',\n",
       " '9261357652'}"
      ]
     },
     "execution_count": 49,
     "metadata": {},
     "output_type": "execute_result"
    }
   ],
   "source": [
    "suspects_0"
   ]
  },
  {
   "cell_type": "code",
   "execution_count": 50,
   "metadata": {},
   "outputs": [],
   "source": [
    "n = 1\n",
    "\n",
    "prev_suspects = suspects_0\n",
    "\n",
    "while n <= N_CIRCLES:\n",
    "    with open('Control_point_3/calls.txt', 'r') as file_calls, \\\n",
    "         open('Control_point_3/suspects.txt', 'a') as file_suspects, \\\n",
    "         open('Control_point_3/proofs.txt', 'w') as file_proofs:\n",
    "        curr_suspects = set()\n",
    "\n",
    "        while True:\n",
    "            calls = {}\n",
    "\n",
    "            line = file_calls.readline()\n",
    "            if not line:\n",
    "                break\n",
    "\n",
    "            line = line.split('|')\n",
    "\n",
    "            calls['caller'] = line[0].split('caller:')[1]\n",
    "            calls['recipient'] = line[1].split('recipient:')[1]\n",
    "            calls['duration_s'] = int(line[2].split('duration_s:')[1])\n",
    "\n",
    "            if calls['recipient'] in prev_suspects and calls['duration_s'] / 60 > MINUTE_CONSTRAINT:\n",
    "                curr_suspects.add(calls['caller'])\n",
    "\n",
    "                file_proofs.write(f\"caller:{calls['caller']}|recipient:{calls['recipient']}|duration_s:{calls['duration_s']}\\n\")\n",
    "\n",
    "        if not curr_suspects:\n",
    "            break\n",
    "        \n",
    "        file_suspects.write(\"New circle\" + '\\n')\n",
    "        file_suspects.write(f\"-----------{n}-circle of suspects:-----------\" + '\\n')\n",
    "        for number in curr_suspects:\n",
    "            file_suspects.write(number + '\\n')\n",
    "            \n",
    "        \n",
    "        prev_suspects = curr_suspects\n",
    "        n += 1"
   ]
  },
  {
   "cell_type": "code",
   "execution_count": 51,
   "metadata": {},
   "outputs": [
    {
     "name": "stdout",
     "output_type": "stream",
     "text": [
      "We reached 20 circles of suspects.\n"
     ]
    }
   ],
   "source": [
    "print(f\"We reached {n-1} circles of suspects.\")"
   ]
  },
  {
   "cell_type": "markdown",
   "metadata": {},
   "source": [
    "### Как валидировать файл Control_point_3/suspects.txt?\n",
    "\n",
    "Его можно валидировать по строке **New circle**. Например:"
   ]
  },
  {
   "cell_type": "code",
   "execution_count": 52,
   "metadata": {},
   "outputs": [
    {
     "name": "stdout",
     "output_type": "stream",
     "text": [
      "Processing circle 1 of suspects.\n",
      "Processing circle 2 of suspects.\n",
      "Processing circle 3 of suspects.\n",
      "Processing circle 4 of suspects.\n",
      "Processing circle 5 of suspects.\n",
      "Processing circle 6 of suspects.\n",
      "Processing circle 7 of suspects.\n",
      "Processing circle 8 of suspects.\n",
      "Processing circle 9 of suspects.\n",
      "Processing circle 10 of suspects.\n",
      "Processing circle 11 of suspects.\n",
      "Processing circle 12 of suspects.\n",
      "Processing circle 13 of suspects.\n",
      "Processing circle 14 of suspects.\n",
      "Processing circle 15 of suspects.\n",
      "Processing circle 16 of suspects.\n",
      "Processing circle 17 of suspects.\n",
      "Processing circle 18 of suspects.\n",
      "Processing circle 19 of suspects.\n",
      "Processing circle 20 of suspects.\n"
     ]
    }
   ],
   "source": [
    "with open('Control_point_3/suspects.txt', 'r') as file:\n",
    "    while True:\n",
    "        number = file.readline()\n",
    "\n",
    "        if not number:\n",
    "            break\n",
    "        elif number == \"New circle\\n\":\n",
    "            circle = file.readline()\n",
    "\n",
    "            search = re.search(r'\\d+', circle)\n",
    "            n = int(search.group(0))\n",
    "            print(f\"Processing circle {n} of suspects.\")\n",
    "\n",
    "            continue"
   ]
  },
  {
   "cell_type": "markdown",
   "metadata": {},
   "source": [
    "# Усложним правила отбора подозреваемых."
   ]
  },
  {
   "cell_type": "code",
   "execution_count": 53,
   "metadata": {},
   "outputs": [],
   "source": [
    "# Constants\n",
    "\n",
    "MINUTE_CONSTRAINT = 2\n",
    "N_CIRCLES = 20\n",
    "CALLS_CONSTRAINT = 3"
   ]
  },
  {
   "cell_type": "code",
   "execution_count": 54,
   "metadata": {},
   "outputs": [
    {
     "name": "stdout",
     "output_type": "stream",
     "text": [
      "['1053306531', '0558987462', '7016263283', '7723765891', '4210734819', '1920264448', '4030277152', '0052313714', '4214517778', '6083274860']\n"
     ]
    }
   ],
   "source": [
    "fake = Faker()\n",
    "fake.add_provider(phone_number)\n",
    "pnumbers = [fake.phone_number() for i in range(20)]\n",
    "pnumbers = [normalize_phone_number(str(number)) for number in pnumbers]\n",
    "\n",
    "calls = [ {\"caller\": random.choice(pnumbers), \"recipient\": random.choice(pnumbers), \"duration_s\": random.randint(50, 600)} for i in range(50000) ]\n",
    "\n",
    "suspects = random.choices(pnumbers,k=10)\n",
    "print(suspects)\n",
    "\n",
    "with open(\"Control_point_4/numbers.txt\", \"w+\") as file:\n",
    "    file.writelines([f'{str(number)}\\n' for number in pnumbers])\n",
    "\n",
    "with open(\"Control_point_4/suspects.txt\", \"w+\") as file:\n",
    "    file.writelines([f'{str(number)}\\n' for number in suspects])\n",
    "\n",
    "with open(\"Control_point_4/calls.txt\", \"w+\") as file:\n",
    "        file.writelines([f'caller:{call.get(\"caller\")}|recipient:{call.get(\"recipient\")}|duration_s:{call.get(\"duration_s\")}\\n' for call in calls])\n"
   ]
  },
  {
   "cell_type": "code",
   "execution_count": 55,
   "metadata": {},
   "outputs": [],
   "source": [
    "prev_suspects = set()\n",
    "\n",
    "with open('Control_point_4/suspects.txt', 'r') as file:\n",
    "    numbers = [i[:-1] for i in file.readlines()]\n",
    "\n",
    "for number in numbers:\n",
    "    prev_suspects.add(number)"
   ]
  },
  {
   "cell_type": "code",
   "execution_count": 56,
   "metadata": {},
   "outputs": [],
   "source": [
    "n = 1\n",
    "\n",
    "while n <= N_CIRCLES:\n",
    "    with open('Control_point_4/calls.txt', 'r') as file_calls, \\\n",
    "         open('Control_point_4/suspects.txt', 'a') as file_suspects, \\\n",
    "         open('Control_point_4/proofs.txt', 'w') as file_proofs:\n",
    "        curr_suspects = set()\n",
    "\n",
    "        while True:\n",
    "            calls = {}\n",
    "            supposed_suspects = {}\n",
    "\n",
    "            line = file_calls.readline()\n",
    "            if not line:\n",
    "                break\n",
    "\n",
    "            line = line.split('|')\n",
    "\n",
    "            calls['caller'] = line[0].split('caller:')[1]\n",
    "            calls['recipient'] = line[1].split('recipient:')[1]\n",
    "            calls['duration_s'] = int(line[2].split('duration_s:')[1])\n",
    "\n",
    "            if calls['recipient'] in prev_suspects and calls['duration_s'] / 60 > MINUTE_CONSTRAINT:\n",
    "                if calls['caller'] in supposed_suspects:\n",
    "                    supposed_suspects[calls['caller']] += 1\n",
    "                else:\n",
    "                    supposed_suspects[calls['caller']] = 1\n",
    "                \n",
    "                if supposed_suspects[calls['caller']] == CALLS_CONSTRAINT:\n",
    "                    curr_suspects.add(calls['caller'])\n",
    "\n",
    "                    file_proofs.write(f\"caller:{calls['caller']}|recipient:{calls['recipient']}|duration_s:{calls['duration_s']}\\n\")\n",
    "\n",
    "        if not curr_suspects:\n",
    "            break\n",
    "        \n",
    "        file_suspects.write(\"New circle\" + '\\n')\n",
    "        file_suspects.write(f\"-----------{n}-circle of suspects:-----------\" + '\\n')\n",
    "        for number in curr_suspects:\n",
    "            file_suspects.write(number + '\\n')\n",
    "        \n",
    "        prev_suspects = curr_suspects\n",
    "        n += 1"
   ]
  },
  {
   "cell_type": "code",
   "execution_count": 57,
   "metadata": {},
   "outputs": [
    {
     "name": "stdout",
     "output_type": "stream",
     "text": [
      "We reached 0 circles of suspects.\n"
     ]
    }
   ],
   "source": [
    "print(f\"We reached {n-1} circles of suspects.\")"
   ]
  }
 ],
 "metadata": {
  "interpreter": {
   "hash": "c5b29aa43733ee39e4eaaf00aa7ce4df524b94784badf4e0e48f9f076059af6c"
  },
  "kernelspec": {
   "display_name": "Python 3.10.0 ('myenv')",
   "language": "python",
   "name": "python3"
  },
  "language_info": {
   "codemirror_mode": {
    "name": "ipython",
    "version": 3
   },
   "file_extension": ".py",
   "mimetype": "text/x-python",
   "name": "python",
   "nbconvert_exporter": "python",
   "pygments_lexer": "ipython3",
   "version": "3.10.2"
  },
  "orig_nbformat": 4
 },
 "nbformat": 4,
 "nbformat_minor": 2
}
